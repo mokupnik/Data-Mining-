{
 "cells": [
  {
   "cell_type": "markdown",
   "metadata": {},
   "source": [
    "# Apriori algorithm - Task 1"
   ]
  },
  {
   "cell_type": "code",
   "execution_count": 1,
   "metadata": {},
   "outputs": [],
   "source": [
    "%matplotlib inline\n",
    "import numpy as np\n",
    "import matplotlib.pyplot as plt\n",
    "import matplotlib.image as img\n",
    "import pandas as pd\n",
    "from scipy.spatial import distance_matrix as dist\n",
    "from sklearn import tree\n",
    "from sklearn import datasets,metrics\n",
    "from scipy.stats import mode as mode\n",
    "import itertools\n"
   ]
  },
  {
   "cell_type": "code",
   "execution_count": 2,
   "metadata": {
    "scrolled": false
   },
   "outputs": [
    {
     "name": "stdout",
     "output_type": "stream",
     "text": [
      "Wall time: 1e+03 µs\n"
     ]
    }
   ],
   "source": [
    "%%time\n",
    "# confidence - conditional probability \n",
    "# support - probability\n",
    "class Apriori:\n",
    "    def __init__(self,transactions,min_support, min_conf):\n",
    "        #self.min_lift = min_lift\n",
    "        self.min_conf = min_conf\n",
    "        self.min_support = min_support\n",
    "        self.transactions = [tuple(l) for l in transactions]\n",
    "        self.supp_for_items = {}\n",
    "        self.assos_rules = []       \n",
    "        self.start_dict() # making a dictonary with elements as keys, and support as values\n",
    "                    \n",
    "        self.items = [k for k,e in self.supp_for_items.items() if e >= self.min_support] # frequent bought items\n",
    "        '''\n",
    "        new_trans = [t for t in transactions if self.contains(t)]\n",
    "        self.transactions = new_trans\n",
    "       \n",
    "        '''\n",
    "        \n",
    "        self.rules = {frozenset((x,y)) : self.count_support((x,y)) for index, x in enumerate(self.items) for y in self.items[index:]\n",
    "                    if x!=y and self.count_support((x,y)) >= min_support}  #  all rules/frequent items sets, at first containing pairs only\n",
    "        self.L_k = self.rules\n",
    "        self.K=2\n",
    "        \n",
    "    '''\n",
    "    def contains(self,lista):\n",
    "        new_trans = []\n",
    "        for it in self.items:\n",
    "            if it in lista:\n",
    "                return True\n",
    "            else:\n",
    "                continue\n",
    "        return False   \n",
    "     '''\n",
    "\n",
    "    def make_rules(self):\n",
    "    #every combination of two set - A,B ze A u B = S i A ^ B = 0\n",
    "        for k,v in self.rules.items():\n",
    "            S = k\n",
    "            len_s = len(S)\n",
    "            list_s = list(S)\n",
    "            A = [[] for i in range(len_s-1)]\n",
    "            for x in S:\n",
    "                A[0].append(frozenset((x,)))\n",
    "            for i in range(1,len_s-1):\n",
    "                for x in S:\n",
    "                    for e in A[i-1]:\n",
    "                        if x not in e:\n",
    "                            new_a = e.union(frozenset((x,)))\n",
    "                            if new_a not in A[i]:\n",
    "                                A[i].append(new_a)\n",
    "            for i in range(len_s-1):\n",
    "                for a in A[i]:\n",
    "                    B = S.difference(a)\n",
    "                    conf = v / self.count_support(a)\n",
    "                    lift = conf / self.count_support(B)\n",
    "                    if conf >= self.min_conf:\n",
    "                        rule = {'sets' : f'{tuple(a)} -> {tuple(B)}','support':v,'confidence':conf, 'lift':lift}\n",
    "                        self.assos_rules.append(rule)\n",
    "                        \n",
    "        print(f'Apriori found {len(self.assos_rules)} rules!')\n",
    "        \n",
    "    def start_dict(self):\n",
    "        for t in self.transactions:\n",
    "            for it in t:\n",
    "                if it not in self.supp_for_items:\n",
    "                    self.supp_for_items[it] = 1\n",
    "                else:\n",
    "                    self.supp_for_items[it] += 1\n",
    "        \n",
    "    def count_support(self,A):\n",
    "        a = frozenset(A)\n",
    "        if a not in self.supp_for_items:\n",
    "            self.supp_for_items[a] = np.sum([1 for t in self.transactions if a.issubset(t)])\n",
    "        return self.supp_for_items[a]\n",
    "    \n",
    "        \n",
    "    def Run(self):\n",
    "        while(self.L_k != {}):\n",
    "            D_k = {frozenset(x | y) : self.count_support(x | y)\n",
    "                                           for x in self.L_k for y in self.L_k if(len(x | y)  == self.K+1)} # only these that increase in length\n",
    "            C_k = {x : D_k[x] for x in D_k.keys() if D_k[x] >= self.min_support} # only these that pass the support threshold\n",
    "            \n",
    "            self.L_k = C_k\n",
    "            for x in self.L_k.keys():\n",
    "                self.rules[x] = self.L_k[x]\n",
    "            self.K += 1\n",
    "            \n",
    "        self.make_rules()\n",
    "            \n",
    "\n"
   ]
  },
  {
   "cell_type": "markdown",
   "metadata": {},
   "source": [
    "# Testing on some small data from wikipedia /wiki/Apriori_algorithm"
   ]
  },
  {
   "cell_type": "code",
   "execution_count": 4,
   "metadata": {
    "scrolled": true
   },
   "outputs": [
    {
     "name": "stdout",
     "output_type": "stream",
     "text": [
      "Apriori found 17 rules!\n",
      "Wall time: 5 ms\n"
     ]
    },
    {
     "data": {
      "text/plain": [
       "{frozenset({1, 2}): 3,\n",
       " frozenset({1, 4}): 2,\n",
       " frozenset({2, 3}): 3,\n",
       " frozenset({2, 4}): 4,\n",
       " frozenset({3, 4}): 3,\n",
       " frozenset({1, 2, 4}): 2,\n",
       " frozenset({2, 3, 4}): 2}"
      ]
     },
     "execution_count": 4,
     "metadata": {},
     "output_type": "execute_result"
    }
   ],
   "source": [
    "%%time\n",
    "sample_transactions = [[1,2,3,4],[1,2,4],[1,2],[2,3,4],[2,3],[3,4],[2,4]]\n",
    "test = Apriori(sample_transactions,2,0.5)\n",
    "test.Run()\n",
    "test.assos_rules\n",
    "test.rules"
   ]
  },
  {
   "cell_type": "markdown",
   "metadata": {},
   "source": [
    "# Testing on iris data set with rounded values of attributes"
   ]
  },
  {
   "cell_type": "code",
   "execution_count": 40,
   "metadata": {},
   "outputs": [
    {
     "name": "stdout",
     "output_type": "stream",
     "text": [
      "Apriori found 44 rules!\n",
      "Wall time: 82 ms\n"
     ]
    },
    {
     "data": {
      "text/plain": [
       "[{'sets': '(0.0,) -> (5.0,)',\n",
       "  'support': 39,\n",
       "  'confidence': 0.7959183673469388,\n",
       "  'lift': 0.009706321553011448},\n",
       " {'sets': '(5.0,) -> (3.0,)',\n",
       "  'support': 59,\n",
       "  'confidence': 0.7195121951219512,\n",
       "  'lift': 0.006601029313045423},\n",
       " {'sets': '(5.0,) -> (2.0,)',\n",
       "  'support': 59,\n",
       "  'confidence': 0.7195121951219512,\n",
       "  'lift': 0.00705404112864658},\n",
       " {'sets': '(1.0,) -> (4.0,)',\n",
       "  'support': 42,\n",
       "  'confidence': 0.6885245901639344,\n",
       "  'lift': 0.010758196721311475},\n",
       " {'sets': '(4.0,) -> (1.0,)',\n",
       "  'support': 42,\n",
       "  'confidence': 0.65625,\n",
       "  'lift': 0.010758196721311475},\n",
       " {'sets': '(1.0,) -> (3.0,)',\n",
       "  'support': 41,\n",
       "  'confidence': 0.6721311475409836,\n",
       "  'lift': 0.00616634080312829},\n",
       " {'sets': '(2.0,) -> (3.0,)',\n",
       "  'support': 71,\n",
       "  'confidence': 0.696078431372549,\n",
       "  'lift': 0.006386040654794027},\n",
       " {'sets': '(3.0,) -> (2.0,)',\n",
       "  'support': 71,\n",
       "  'confidence': 0.6513761467889908,\n",
       "  'lift': 0.006386040654794027},\n",
       " {'sets': '(6.0,) -> (3.0,)',\n",
       "  'support': 63,\n",
       "  'confidence': 0.7590361445783133,\n",
       "  'lift': 0.006963634353929479},\n",
       " {'sets': '(7.0,) -> (3.0,)',\n",
       "  'support': 25,\n",
       "  'confidence': 0.8928571428571429,\n",
       "  'lift': 0.0081913499344692},\n",
       " {'sets': '(6.0,) -> (2.0,)',\n",
       "  'support': 61,\n",
       "  'confidence': 0.7349397590361446,\n",
       "  'lift': 0.00720529175525632},\n",
       " {'sets': '(7.0,) -> (2.0,)',\n",
       "  'support': 23,\n",
       "  'confidence': 0.8214285714285714,\n",
       "  'lift': 0.008053221288515405},\n",
       " {'sets': '(4.0, 5.0) -> (0.0,)',\n",
       "  'support': 16,\n",
       "  'confidence': 0.7619047619047619,\n",
       "  'lift': 0.015549076773566569},\n",
       " {'sets': '(0.0, 1.0) -> (5.0,)',\n",
       "  'support': 16,\n",
       "  'confidence': 0.6666666666666666,\n",
       "  'lift': 0.008130081300813007},\n",
       " {'sets': '(1.0, 5.0) -> (3.0,)',\n",
       "  'support': 19,\n",
       "  'confidence': 0.6785714285714286,\n",
       "  'lift': 0.006225425950196593},\n",
       " {'sets': '(0.0, 3.0) -> (5.0,)',\n",
       "  'support': 23,\n",
       "  'confidence': 0.8518518518518519,\n",
       "  'lift': 0.01038843721770551},\n",
       " {'sets': '(0.0, 2.0) -> (5.0,)',\n",
       "  'support': 23,\n",
       "  'confidence': 0.8846153846153846,\n",
       "  'lift': 0.010787992495309567},\n",
       " {'sets': '(2.0, 5.0) -> (3.0,)',\n",
       "  'support': 43,\n",
       "  'confidence': 0.7288135593220338,\n",
       "  'lift': 0.006686362929559943},\n",
       " {'sets': '(3.0, 5.0) -> (2.0,)',\n",
       "  'support': 43,\n",
       "  'confidence': 0.7288135593220338,\n",
       "  'lift': 0.00714523097374543},\n",
       " {'sets': '(5.0, 6.0) -> (3.0,)',\n",
       "  'support': 22,\n",
       "  'confidence': 0.8461538461538461,\n",
       "  'lift': 0.00776287932251235},\n",
       " {'sets': '(5.0, 6.0) -> (2.0,)',\n",
       "  'support': 23,\n",
       "  'confidence': 0.8846153846153846,\n",
       "  'lift': 0.008672699849170438},\n",
       " {'sets': '(3.0, 4.0) -> (1.0,)',\n",
       "  'support': 22,\n",
       "  'confidence': 0.7857142857142857,\n",
       "  'lift': 0.01288056206088993},\n",
       " {'sets': '(1.0, 2.0) -> (4.0,)',\n",
       "  'support': 10,\n",
       "  'confidence': 0.7692307692307693,\n",
       "  'lift': 0.01201923076923077},\n",
       " {'sets': '(1.0, 6.0) -> (4.0,)',\n",
       "  'support': 25,\n",
       "  'confidence': 0.8620689655172413,\n",
       "  'lift': 0.013469827586206896},\n",
       " {'sets': '(4.0, 6.0) -> (1.0,)',\n",
       "  'support': 25,\n",
       "  'confidence': 0.7142857142857143,\n",
       "  'lift': 0.0117096018735363},\n",
       " {'sets': '(3.0, 4.0) -> (6.0,)',\n",
       "  'support': 20,\n",
       "  'confidence': 0.7142857142857143,\n",
       "  'lift': 0.008605851979345956},\n",
       " {'sets': '(1.0, 6.0) -> (3.0,)',\n",
       "  'support': 19,\n",
       "  'confidence': 0.6551724137931034,\n",
       "  'lift': 0.0060107560898449855},\n",
       " {'sets': '(2.0, 6.0) -> (3.0,)',\n",
       "  'support': 44,\n",
       "  'confidence': 0.7213114754098361,\n",
       "  'lift': 0.006617536471649872},\n",
       " {'sets': '(3.0, 6.0) -> (2.0,)',\n",
       "  'support': 44,\n",
       "  'confidence': 0.6984126984126984,\n",
       "  'lift': 0.006847183317771553},\n",
       " {'sets': '(7.0,) -> (2.0, 3.0)',\n",
       "  'support': 20,\n",
       "  'confidence': 0.7142857142857143,\n",
       "  'lift': 0.01006036217303823},\n",
       " {'sets': '(2.0, 7.0) -> (3.0,)',\n",
       "  'support': 20,\n",
       "  'confidence': 0.8695652173913043,\n",
       "  'lift': 0.007977662544874352},\n",
       " {'sets': '(3.0, 7.0) -> (2.0,)',\n",
       "  'support': 20,\n",
       "  'confidence': 0.8,\n",
       "  'lift': 0.00784313725490196},\n",
       " {'sets': '(6.0, 7.0) -> (3.0,)',\n",
       "  'support': 11,\n",
       "  'confidence': 0.8461538461538461,\n",
       "  'lift': 0.00776287932251235},\n",
       " {'sets': '(6.0, 7.0) -> (2.0,)',\n",
       "  'support': 13,\n",
       "  'confidence': 1.0,\n",
       "  'lift': 0.00980392156862745},\n",
       " {'sets': '(0.0, 2.0, 3.0) -> (5.0,)',\n",
       "  'support': 14,\n",
       "  'confidence': 1.0,\n",
       "  'lift': 0.012195121951219513},\n",
       " {'sets': '(5.0, 6.0) -> (2.0, 3.0)',\n",
       "  'support': 19,\n",
       "  'confidence': 0.7307692307692307,\n",
       "  'lift': 0.010292524377031419},\n",
       " {'sets': '(2.0, 5.0, 6.0) -> (3.0,)',\n",
       "  'support': 19,\n",
       "  'confidence': 0.8260869565217391,\n",
       "  'lift': 0.007578779417630634},\n",
       " {'sets': '(3.0, 5.0, 6.0) -> (2.0,)',\n",
       "  'support': 19,\n",
       "  'confidence': 0.8636363636363636,\n",
       "  'lift': 0.008467023172905526},\n",
       " {'sets': '(1.0, 3.0, 4.0) -> (6.0,)',\n",
       "  'support': 15,\n",
       "  'confidence': 0.6818181818181818,\n",
       "  'lift': 0.008214676889375683},\n",
       " {'sets': '(1.0, 3.0, 6.0) -> (4.0,)',\n",
       "  'support': 15,\n",
       "  'confidence': 0.7894736842105263,\n",
       "  'lift': 0.012335526315789474},\n",
       " {'sets': '(3.0, 4.0, 6.0) -> (1.0,)',\n",
       "  'support': 15,\n",
       "  'confidence': 0.75,\n",
       "  'lift': 0.012295081967213115},\n",
       " {'sets': '(6.0, 7.0) -> (2.0, 3.0)',\n",
       "  'support': 11,\n",
       "  'confidence': 0.8461538461538461,\n",
       "  'lift': 0.011917659804983749},\n",
       " {'sets': '(2.0, 6.0, 7.0) -> (3.0,)',\n",
       "  'support': 11,\n",
       "  'confidence': 0.8461538461538461,\n",
       "  'lift': 0.00776287932251235},\n",
       " {'sets': '(3.0, 6.0, 7.0) -> (2.0,)',\n",
       "  'support': 11,\n",
       "  'confidence': 1.0,\n",
       "  'lift': 0.00980392156862745}]"
      ]
     },
     "execution_count": 40,
     "metadata": {},
     "output_type": "execute_result"
    }
   ],
   "source": [
    "%%time\n",
    "iris = datasets.load_iris() \n",
    "iris.data = [[round(t) for t in l] for l in iris.data] ## rounding up iris attributes\n",
    "iris_apr = Apriori(iris.data,10,0.65)\n",
    "iris_apr.Run()\n",
    "iris_apr.assos_rules"
   ]
  },
  {
   "cell_type": "markdown",
   "metadata": {},
   "source": [
    "# Retail Data - Task 2"
   ]
  },
  {
   "cell_type": "code",
   "execution_count": 41,
   "metadata": {},
   "outputs": [
    {
     "name": "stdout",
     "output_type": "stream",
     "text": [
      "Wall time: 1.25 s\n"
     ]
    }
   ],
   "source": [
    "%%time\n",
    "retail_df = pd.read_csv('retail.dat', header=None,names = ['transactions'])\n",
    "retail_df.head()\n",
    "retail_df = retail_df.drop([0])\n",
    "t = retail_df['transactions'].apply(lambda row: list(map(int, row.strip().split(' '))))\n",
    "# 88161\n"
   ]
  },
  {
   "cell_type": "code",
   "execution_count": 42,
   "metadata": {},
   "outputs": [
    {
     "name": "stdout",
     "output_type": "stream",
     "text": [
      "Apriori found 8 rules!\n",
      "[{'sets': '(36,) -> (38,)', 'support': 2790, 'confidence': 0.9502724795640327, 'lift': 6.093052574788617e-05}, {'sets': '(110,) -> (38,)', 'support': 2725, 'confidence': 0.9753042233357194, 'lift': 6.253553624876375e-05}, {'sets': '(170,) -> (38,)', 'support': 3031, 'confidence': 0.9780574378831881, 'lift': 6.271206962574943e-05}, {'sets': '(36, 39) -> (38,)', 'support': 1945, 'confidence': 0.9548355424644085, 'lift': 6.122310480023138e-05}, {'sets': '(110, 39) -> (38,)', 'support': 1740, 'confidence': 0.9891984081864695, 'lift': 6.342641755491598e-05}, {'sets': '(170, 39) -> (38,)', 'support': 2019, 'confidence': 0.9805730937348227, 'lift': 6.287337097555929e-05}, {'sets': '(48, 41) -> (39,)', 'support': 7366, 'confidence': 0.8168108227988468, 'lift': 1.6118615151432594e-05}, {'sets': '(48, 41, 38) -> (39,)', 'support': 1991, 'confidence': 0.8386689132266217, 'lift': 1.6549953887057162e-05}]\n",
      "Wall time: 23.7 s\n"
     ]
    },
    {
     "data": {
      "text/plain": [
       "[32,\n",
       " 36,\n",
       " 38,\n",
       " 39,\n",
       " 41,\n",
       " 48,\n",
       " 65,\n",
       " 89,\n",
       " 101,\n",
       " 110,\n",
       " 147,\n",
       " 170,\n",
       " 225,\n",
       " 237,\n",
       " 270,\n",
       " 271,\n",
       " 310,\n",
       " 413,\n",
       " 438,\n",
       " 475,\n",
       " 1327,\n",
       " 2238]"
      ]
     },
     "execution_count": 42,
     "metadata": {},
     "output_type": "execute_result"
    }
   ],
   "source": [
    "%%time \n",
    "retail_apr = Apriori(list(t[0:88161]),1700,0.8)\n",
    "retail_apr.Run()\n",
    "print(retail_apr.assos_rules)\n",
    "retail_apr.items"
   ]
  },
  {
   "cell_type": "markdown",
   "metadata": {},
   "source": [
    "## Kosarak Data - Task 3"
   ]
  },
  {
   "cell_type": "code",
   "execution_count": 43,
   "metadata": {},
   "outputs": [
    {
     "name": "stdout",
     "output_type": "stream",
     "text": [
      "Wall time: 7.62 s\n"
     ]
    }
   ],
   "source": [
    "%%time\n",
    "kosarak_df = pd.read_csv('kosarak.dat', header=None)\n",
    "kosarak_df.head()\n",
    "\n",
    "k = kosarak_df[0].apply(lambda row: list(map(int, row.strip().split(' '))))\n",
    "data = list(k[:99001])\n"
   ]
  },
  {
   "cell_type": "code",
   "execution_count": 44,
   "metadata": {},
   "outputs": [
    {
     "name": "stdout",
     "output_type": "stream",
     "text": [
      "Apriori found 15 rules!\n",
      "Wall time: 34.8 s\n"
     ]
    },
    {
     "data": {
      "text/plain": [
       "[{'sets': '(148,) -> (6,)',\n",
       "  'support': 6430,\n",
       "  'confidence': 0.9312092686459088,\n",
       "  'lift': 1.5497424920881187e-05},\n",
       " {'sets': '(1, 11) -> (6,)',\n",
       "  'support': 8585,\n",
       "  'confidence': 0.9416474717560601,\n",
       "  'lift': 1.567114019032186e-05},\n",
       " {'sets': '(1, 218) -> (6,)',\n",
       "  'support': 3068,\n",
       "  'confidence': 0.9448721897135818,\n",
       "  'lift': 1.5724806778617722e-05},\n",
       " {'sets': '(11, 7) -> (6,)',\n",
       "  'support': 5600,\n",
       "  'confidence': 0.9795347210075215,\n",
       "  'lift': 1.6301669568092155e-05},\n",
       " {'sets': '(27, 7) -> (6,)',\n",
       "  'support': 3732,\n",
       "  'confidence': 0.9325337331334332,\n",
       "  'lift': 1.5519467000622975e-05},\n",
       " {'sets': '(27, 11) -> (6,)',\n",
       "  'support': 4501,\n",
       "  'confidence': 0.9744533448798441,\n",
       "  'lift': 1.6217103995470713e-05},\n",
       " {'sets': '(64, 11) -> (6,)',\n",
       "  'support': 3037,\n",
       "  'confidence': 0.9721510883482715,\n",
       "  'lift': 1.617878924824044e-05},\n",
       " {'sets': '(11, 148) -> (6,)',\n",
       "  'support': 5476,\n",
       "  'confidence': 0.9918493026625611,\n",
       "  'lift': 1.6506612013422997e-05},\n",
       " {'sets': '(218, 11) -> (6,)',\n",
       "  'support': 5989,\n",
       "  'confidence': 0.9816423537125062,\n",
       "  'lift': 1.633674533538321e-05},\n",
       " {'sets': '(218, 148) -> (6,)',\n",
       "  'support': 5656,\n",
       "  'confidence': 0.9703208097443815,\n",
       "  'lift': 1.6148329279463148e-05},\n",
       " {'sets': '(11, 148) -> (218,)',\n",
       "  'support': 4983,\n",
       "  'confidence': 0.9025538851657309,\n",
       "  'lift': 0.00010284342356036131},\n",
       " {'sets': '(3, 1, 11) -> (6,)',\n",
       "  'support': 3693,\n",
       "  'confidence': 0.9416114227434982,\n",
       "  'lift': 1.5670540253353383e-05},\n",
       " {'sets': '(27, 11, 7) -> (6,)',\n",
       "  'support': 3043,\n",
       "  'confidence': 0.991851368970013,\n",
       "  'lift': 1.6506646401444765e-05},\n",
       " {'sets': '(11, 148, 6) -> (218,)',\n",
       "  'support': 4960,\n",
       "  'confidence': 0.9057706355003652,\n",
       "  'lift': 0.0001032099630241984},\n",
       " {'sets': '(218, 11, 148) -> (6,)',\n",
       "  'support': 4960,\n",
       "  'confidence': 0.9953843066425848,\n",
       "  'lift': 1.6565442461765822e-05}]"
      ]
     },
     "execution_count": 44,
     "metadata": {},
     "output_type": "execute_result"
    }
   ],
   "source": [
    "%%time\n",
    "kosarak_apr = Apriori(data,3000,0.9)\n",
    "kosarak_apr.Run()\n",
    "kosarak_apr.assos_rules"
   ]
  },
  {
   "cell_type": "code",
   "execution_count": null,
   "metadata": {},
   "outputs": [],
   "source": []
  },
  {
   "cell_type": "code",
   "execution_count": null,
   "metadata": {},
   "outputs": [],
   "source": []
  },
  {
   "cell_type": "code",
   "execution_count": null,
   "metadata": {},
   "outputs": [],
   "source": []
  }
 ],
 "metadata": {
  "kernelspec": {
   "display_name": "Python 3",
   "language": "python",
   "name": "python3"
  },
  "language_info": {
   "codemirror_mode": {
    "name": "ipython",
    "version": 3
   },
   "file_extension": ".py",
   "mimetype": "text/x-python",
   "name": "python",
   "nbconvert_exporter": "python",
   "pygments_lexer": "ipython3",
   "version": "3.7.4"
  }
 },
 "nbformat": 4,
 "nbformat_minor": 2
}
