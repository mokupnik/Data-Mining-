{
 "cells": [
  {
   "cell_type": "code",
   "execution_count": 1,
   "metadata": {},
   "outputs": [],
   "source": [
    "#setup\n",
    "import numpy as np\n",
    "import pandas as pd\n",
    "from PIL import Image\n",
    "from IPython.display import display\n",
    "\n",
    "from sklearn.decomposition import PCA\n",
    "from scipy.spatial import distance_matrix as dist_\n",
    "from scipy.stats import mode as mode\n",
    "from sklearn.metrics.pairwise import euclidean_distances as euclidean_distance\n",
    "\n",
    "\n",
    "import matplotlib.pyplot as plt\n",
    "from scipy.spatial import distance_matrix\n",
    "\n",
    "\n"
   ]
  },
  {
   "cell_type": "code",
   "execution_count": 2,
   "metadata": {},
   "outputs": [],
   "source": [
    "def draw_face(img):\n",
    "    img = img.reshape(60, 82).T\n",
    "    display(Image.fromarray(img))"
   ]
  },
  {
   "cell_type": "code",
   "execution_count": 3,
   "metadata": {},
   "outputs": [],
   "source": [
    "data_train = pd.read_csv('ri_train.csv',header=None).astype(np.float64).T.values\n",
    "data_train.shape\n",
    "data_test = pd.read_csv('ri_test.csv',header=None).astype(np.float64).T.values"
   ]
  },
  {
   "cell_type": "code",
   "execution_count": 4,
   "metadata": {},
   "outputs": [],
   "source": [
    "def dist(point,matrix):\n",
    "    return np.sqrt(np.sum(((point-matrix)**2),axis=1))"
   ]
  },
  {
   "cell_type": "code",
   "execution_count": 5,
   "metadata": {},
   "outputs": [],
   "source": [
    "\n",
    "def nearest(img,data_train,diff_dist):\n",
    "    d = dist(img,data_train)\n",
    "    nearest_ = np.argmin(d)\n",
    "    if d[nearest_] <= diff_dist:\n",
    "        nearest_ = nearest_ // 5\n",
    "        return nearest_\n",
    "    return None\n",
    "    "
   ]
  },
  {
   "cell_type": "code",
   "execution_count": 6,
   "metadata": {},
   "outputs": [],
   "source": [
    "def calculate_accuracy(data_train,data_test,diff_dist):\n",
    "    \n",
    "    preds_train = []\n",
    "    for d in data_train:\n",
    "        preds_train.append(nearest(d,data_train,diff_dist))\n",
    "\n",
    "    \n",
    "    preds_test = []\n",
    "    for d in data_test:\n",
    "        preds_test.append(nearest(d,data_train,diff_dist))\n",
    "    \n",
    "    COUNTER = 0\n",
    "    for i in range(len(data_train)):\n",
    "        if preds_train[i] == i//5:\n",
    "            COUNTER += 1\n",
    "    print(f'Accuracy for train data: {COUNTER / len(data_train) * 100}')\n",
    "\n",
    "    COUNTER = 0\n",
    "    NONE = 0\n",
    "   \n",
    "    for j in range(len(data_test)):\n",
    "        if preds_test[j] == j//2 :\n",
    "            COUNTER += 1\n",
    "        if preds_test[j] == None:\n",
    "            NONE += 1\n",
    "    print(f'Accuracy for test data: {COUNTER / len(data_test) * 100}') \n",
    "    print(f'Failed to identify : {NONE} faces')\n"
   ]
  },
  {
   "cell_type": "markdown",
   "metadata": {},
   "source": [
    "# Task 3 - getting preds and testing accuracy for test photos"
   ]
  },
  {
   "cell_type": "code",
   "execution_count": 7,
   "metadata": {},
   "outputs": [
    {
     "data": {
      "text/plain": [
       "(250, 4920)"
      ]
     },
     "execution_count": 7,
     "metadata": {},
     "output_type": "execute_result"
    }
   ],
   "source": [
    "data_train.shape"
   ]
  },
  {
   "cell_type": "code",
   "execution_count": 8,
   "metadata": {},
   "outputs": [
    {
     "name": "stdout",
     "output_type": "stream",
     "text": [
      "Accuracy for train data: 100.0\n",
      "Accuracy for test data: 17.0\n",
      "Failed to identify : 0 faces\n"
     ]
    }
   ],
   "source": [
    "calculate_accuracy(data_train,data_test,5000)\n"
   ]
  },
  {
   "cell_type": "markdown",
   "metadata": {},
   "source": [
    "# Task 4 - testing accuracy for faces with reduced dimensionality\n",
    "more dimensions -> greater accuracy, reducing dimensions causes the need to change the epsilon for distance "
   ]
  },
  {
   "cell_type": "code",
   "execution_count": 9,
   "metadata": {},
   "outputs": [],
   "source": [
    "def KNN(train_x,test_y,train_labels,K):\n",
    "    closer = np.argpartition(dist_(test_y,train_x),K)\n",
    "    targets = train_labels[closer]\n",
    "    labels= targets[:,:K]\n",
    "    targets = mode(labels, axis=1)[0]\n",
    "    \n",
    "    return targets.ravel()\n",
    "\n",
    "def accuracy(predictions,targets):\n",
    "    result=(list(predictions==targets))\n",
    "    err = len(result) - result.count(True)\n",
    "    accuracy = result.count(True)/len(result) \n",
    "    return accuracy\n",
    "\n",
    "def crossvalidation(X,labels):\n",
    "    indices = np.random.uniform(0, 10, len(X)).astype(int)\n",
    "    sum = {}\n",
    "    Ks = np.arange(1,20,3)\n",
    "    for j,k in enumerate(Ks):\n",
    "        for i in range(10):\n",
    "            X_test = X[indices == i]\n",
    "            X_labels = labels[indices == i]\n",
    "            Y_train = X[indices != i]\n",
    "            Y_labels = labels[indices != i]\n",
    "            new_targets = KNN(Y_train,X_test,Y_labels,k)\n",
    "            if i==0:\n",
    "                sum[k] = accuracy(new_targets,X_labels) / 10\n",
    "            else:\n",
    "                sum[k] += accuracy(new_targets,X_labels) /10\n",
    "    return sum\n",
    "\n"
   ]
  },
  {
   "cell_type": "code",
   "execution_count": 10,
   "metadata": {},
   "outputs": [
    {
     "name": "stdout",
     "output_type": "stream",
     "text": [
      "Accuracy for train data: 100.0\n",
      "Accuracy for test data: 94.0\n",
      "Failed to identify : 0 faces\n"
     ]
    }
   ],
   "source": [
    "pca = PCA(80,whiten=True)\n",
    "data_train_reduced = pca.fit_transform(data_train)\n",
    "data_test_reduced = pca.transform(data_test)\n",
    "calculate_accuracy(data_train_reduced,data_test_reduced,500)\n"
   ]
  },
  {
   "cell_type": "code",
   "execution_count": 11,
   "metadata": {},
   "outputs": [
    {
     "data": {
      "text/plain": [
       "(250, 80)"
      ]
     },
     "execution_count": 11,
     "metadata": {},
     "output_type": "execute_result"
    }
   ],
   "source": [
    "data_train_reduced.shape"
   ]
  },
  {
   "cell_type": "markdown",
   "metadata": {},
   "source": [
    "# Task 5"
   ]
  },
  {
   "cell_type": "code",
   "execution_count": 12,
   "metadata": {},
   "outputs": [],
   "source": [
    "def KNN(train_x,test_y,train_labels,K):\n",
    "    closer = np.argpartition(dist_(test_y,train_x),K)\n",
    "    targets = train_labels[closer]\n",
    "    labels= targets[:,:K]\n",
    "    targets = mode(labels, axis=1)[0]\n",
    "    \n",
    "    return targets.ravel()\n",
    "\n",
    "def accuracy(predictions,targets):\n",
    "    result=(list(predictions==targets))\n",
    "    err = len(result) - result.count(True)\n",
    "    accuracy = result.count(True)/len(result) * 100\n",
    "    return accuracy\n",
    "\n",
    "def crossvalidation(X,labels):\n",
    "    indices = np.random.uniform(0, 10, len(X)).astype(int)\n",
    "    sum = {}\n",
    "    Ks = np.arange(1,20,3)\n",
    "    for j,k in enumerate(Ks):\n",
    "        for i in range(10):\n",
    "            X_test = X[indices == i]\n",
    "            X_labels = labels[indices == i]\n",
    "            Y_train = X[indices != i]\n",
    "            Y_labels = labels[indices != i]\n",
    "            new_targets = KNN(Y_train,X_test,Y_labels,k)\n",
    "            if i==0:\n",
    "                sum[k] = accuracy(new_targets,X_labels) / 10\n",
    "            else:\n",
    "                sum[k] += accuracy(new_targets,X_labels) /10\n",
    "    return sum"
   ]
  },
  {
   "cell_type": "code",
   "execution_count": 13,
   "metadata": {},
   "outputs": [],
   "source": [
    "combined_data = np.concatenate((data_train, data_test))\n",
    "combined_labels = np.concatenate(([i//5 for i in range(len(data_train))], [i//2 for i in range(len(data_test))]))"
   ]
  },
  {
   "cell_type": "code",
   "execution_count": 14,
   "metadata": {},
   "outputs": [],
   "source": [
    "def crossvalidation_for_pca(X,labels,dimensions):\n",
    "    indices = np.random.uniform(0, 10, len(X)).astype(int)\n",
    "    dict_ = {}\n",
    "    Ks = np.arange(1,20,3)\n",
    "    for dim in dimensions:\n",
    "        pca = PCA(dim,whiten=True)\n",
    "        for j,k in enumerate(Ks):\n",
    "            for i in range(10):\n",
    "                X_test = X[indices == i]\n",
    "                X_labels = labels[indices == i]\n",
    "                Y_train = X[indices != i]\n",
    "                Y_labels = labels[indices != i]\n",
    "                Y_train = pca.fit_transform(Y_train)\n",
    "                X_test = pca.transform(X_test)\n",
    "                new_targets = KNN(Y_train,X_test,Y_labels,k)\n",
    "                if i>0:\n",
    "                    dict_[(dim,k)] += accuracy(new_targets,X_labels)/10\n",
    "                else:\n",
    "                    dict_[(dim,k)] = accuracy(new_targets,X_labels)/10\n",
    "    return dict_\n",
    "dimensions = [10,45,70,105,140] "
   ]
  },
  {
   "cell_type": "code",
   "execution_count": 15,
   "metadata": {},
   "outputs": [],
   "source": [
    "pca_dict = crossvalidation_for_pca(combined_data,combined_labels,dimensions)"
   ]
  },
  {
   "cell_type": "code",
   "execution_count": 16,
   "metadata": {},
   "outputs": [],
   "source": [
    "pca_dict_2 = crossvalidation_for_pca(combined_data,combined_labels,[175,210,245,280,300])"
   ]
  },
  {
   "cell_type": "code",
   "execution_count": 17,
   "metadata": {},
   "outputs": [],
   "source": [
    "normal_dict = crossvalidation(combined_data,combined_labels)"
   ]
  },
  {
   "cell_type": "code",
   "execution_count": 18,
   "metadata": {},
   "outputs": [],
   "source": [
    "for k,v in pca_dict_2.items():\n",
    "    pca_dict[k]=v"
   ]
  },
  {
   "cell_type": "code",
   "execution_count": 19,
   "metadata": {},
   "outputs": [
    {
     "data": {
      "text/plain": [
       "{(10, 1): 44.327250983527264,\n",
       " (10, 4): 42.846528654807976,\n",
       " (10, 7): 41.66762304488335,\n",
       " (10, 10): 39.37891108277431,\n",
       " (10, 13): 41.96384934739891,\n",
       " (10, 16): 41.829806074917514,\n",
       " (10, 19): 40.508492204541774,\n",
       " (45, 1): 88.14653728315419,\n",
       " (45, 4): 85.56426796150302,\n",
       " (45, 7): 84.62212871336023,\n",
       " (45, 10): 81.21259314038095,\n",
       " (45, 13): 80.68130145407454,\n",
       " (45, 16): 77.33486539145645,\n",
       " (45, 19): 73.47159212717887,\n",
       " (70, 1): 88.74858563306282,\n",
       " (70, 4): 84.9122432630942,\n",
       " (70, 7): 84.2100180015074,\n",
       " (70, 10): 79.738351947818,\n",
       " (70, 13): 78.88434734863085,\n",
       " (70, 16): 76.34562309752782,\n",
       " (70, 19): 75.0134708441182,\n",
       " (105, 1): 86.98549979123435,\n",
       " (105, 4): 80.62460320707179,\n",
       " (105, 7): 79.16234107669075,\n",
       " (105, 10): 77.10263924098462,\n",
       " (105, 13): 73.76489230129523,\n",
       " (105, 16): 70.95918022057758,\n",
       " (105, 19): 64.75480227835457,\n",
       " (140, 1): 82.9915430201323,\n",
       " (140, 4): 72.5305028348274,\n",
       " (140, 7): 67.8699736655353,\n",
       " (140, 10): 63.83757637751355,\n",
       " (140, 13): 61.745314472751645,\n",
       " (140, 16): 57.455705878456705,\n",
       " (140, 19): 55.79846428122908,\n",
       " (175, 1): 83.12929018881282,\n",
       " (175, 4): 66.15636004071038,\n",
       " (175, 7): 60.796306845093426,\n",
       " (175, 10): 54.79153446313638,\n",
       " (175, 13): 51.87755101999084,\n",
       " (175, 16): 52.00150602742234,\n",
       " (175, 19): 45.41856796822841,\n",
       " (210, 1): 80.54909258247417,\n",
       " (210, 4): 61.09278233429337,\n",
       " (210, 7): 58.48231466345418,\n",
       " (210, 10): 50.54643298858319,\n",
       " (210, 13): 46.00846110188964,\n",
       " (210, 16): 41.44597071776737,\n",
       " (210, 19): 39.60564038190624,\n",
       " (245, 1): 80.17620796018879,\n",
       " (245, 4): 57.00002867163059,\n",
       " (245, 7): 51.23230939944212,\n",
       " (245, 10): 42.59234809127448,\n",
       " (245, 13): 38.05397558171452,\n",
       " (245, 16): 35.7618044681612,\n",
       " (245, 19): 27.020403781039953,\n",
       " (280, 1): 79.62578308313853,\n",
       " (280, 4): 54.19690672162459,\n",
       " (280, 7): 50.975471859672396,\n",
       " (280, 10): 40.70906530706291,\n",
       " (280, 13): 33.25619578892824,\n",
       " (280, 16): 29.626432516750107,\n",
       " (280, 19): 25.389453576385566,\n",
       " (300, 1): 80.37814092527964,\n",
       " (300, 4): 58.52196836986611,\n",
       " (300, 7): 52.48339391153732,\n",
       " (300, 10): 42.996328389567175,\n",
       " (300, 13): 39.207961678599844,\n",
       " (300, 16): 37.1950172275749,\n",
       " (300, 19): 33.320398796879374}"
      ]
     },
     "execution_count": 19,
     "metadata": {},
     "output_type": "execute_result"
    }
   ],
   "source": [
    "pca_dict"
   ]
  },
  {
   "cell_type": "code",
   "execution_count": 20,
   "metadata": {},
   "outputs": [
    {
     "data": {
      "text/plain": [
       "<matplotlib.axes._subplots.AxesSubplot at 0xb75b408>"
      ]
     },
     "execution_count": 20,
     "metadata": {},
     "output_type": "execute_result"
    },
    {
     "data": {
      "image/png": "[encoded data removed]",
      "text/plain": [
       "<Figure size 432x288 with 1 Axes>"
      ]
     },
     "metadata": {
      "needs_background": "light"
     },
     "output_type": "display_data"
    }
   ],
   "source": [
    "pca_df = pd.DataFrame.from_dict(pca_dict,orient='index',columns=['Accuracy'])\n",
    "pca_df.plot()"
   ]
  },
  {
   "cell_type": "code",
   "execution_count": 21,
   "metadata": {},
   "outputs": [
    {
     "data": {
      "text/plain": [
       "<matplotlib.axes._subplots.AxesSubplot at 0xd54cd48>"
      ]
     },
     "execution_count": 21,
     "metadata": {},
     "output_type": "execute_result"
    },
    {
     "data": {
      "image/png": "[encoded data removed]",
      "text/plain": [
       "<Figure size 432x288 with 1 Axes>"
      ]
     },
     "metadata": {
      "needs_background": "light"
     },
     "output_type": "display_data"
    }
   ],
   "source": [
    "normal_df = pd.DataFrame.from_dict(normal_dict,orient='index',columns=['Accuracy'])\n",
    "normal_df.plot()"
   ]
  },
  {
   "cell_type": "code",
   "execution_count": null,
   "metadata": {},
   "outputs": [],
   "source": []
  }
 ],
 "metadata": {
  "kernelspec": {
   "display_name": "Python 3",
   "language": "python",
   "name": "python3"
  },
  "language_info": {
   "codemirror_mode": {
    "name": "ipython",
    "version": 3
   },
   "file_extension": ".py",
   "mimetype": "text/x-python",
   "name": "python",
   "nbconvert_exporter": "python",
   "pygments_lexer": "ipython3",
   "version": "3.7.4"
  }
 },
 "nbformat": 4,
 "nbformat_minor": 2
}
