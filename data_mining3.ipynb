{
 "cells": [
  {
   "cell_type": "code",
   "execution_count": 6,
   "metadata": {},
   "outputs": [],
   "source": [
    "import numpy as np\n",
    "import time\n",
    "import math\n",
    "import matplotlib.pyplot as plt\n",
    "import random\n",
    "from sklearn import datasets\n",
    "iris = datasets.load_iris() \n",
    "from scipy.spatial import distance"
   ]
  },
  {
   "cell_type": "code",
   "execution_count": 7,
   "metadata": {},
   "outputs": [],
   "source": [
    "setosa = iris.data[iris.target == 0]\n",
    "versicolor = iris.data[iris.target == 1]\n",
    "virginica = iris.data[iris.target == 2]\n",
    "datka = np.zeros(300).reshape(150,2)\n",
    "datka[0:50,0] = setosa [:,0]\n",
    "datka[0:50,1] = setosa [:,1]\n",
    "datka[50:100,0] = versicolor[:,0]\n",
    "datka[50:100,1] = versicolor[:,1]\n",
    "datka[100:150,0] = virginica[:,0]\n",
    "datka[100:150,1] = virginica[:,1]\n",
    "\n",
    "    \n",
    "    \n",
    "    "
   ]
  },
  {
   "cell_type": "code",
   "execution_count": null,
   "metadata": {},
   "outputs": [],
   "source": [
    "\n",
    "    "
   ]
  },
  {
   "cell_type": "code",
   "execution_count": 8,
   "metadata": {},
   "outputs": [
    {
     "name": "stdout",
     "output_type": "stream",
     "text": [
      "0.09700536727905273\n"
     ]
    },
    {
     "data": {
      "image/png": "[encoded data removed]",
      "text/plain": [
       "<Figure size 432x288 with 1 Axes>"
      ]
     },
     "metadata": {
      "needs_background": "light"
     },
     "output_type": "display_data"
    }
   ],
   "source": [
    "def KMeans(data,numofcl,maxiter):\n",
    "    (N,M) = data.shape   \n",
    "    p_of_cl = data[random.sample(range(N),numofcl)] ## generating first clusters\n",
    "    iteration = 0\n",
    "    dists = []\n",
    "    \n",
    "    def calculate_dist():\n",
    "        dists = -2 * np.dot(data, p_of_cl.T) + np.array(np.sum(p_of_cl ** 2, axis=1))\n",
    "        return dists\n",
    "    \n",
    "    def calculate_clusters():\n",
    "        mins = np.argmin(dists,axis=1)\n",
    "        return mins\n",
    "    \n",
    "    def new_centroids():\n",
    "        center_of_mass = np.zeros(numofcl*2).reshape(numofcl,2) ## new centroids\n",
    "        how_many=np.zeros(numofcl)\n",
    "        for j in range(N):\n",
    "            how_many[mins[j]] +=1\n",
    "\n",
    "        for i in range(numofcl):\n",
    "            center_of_mass[i][0] = np.sum(data[:,0][mins==i]) / how_many[i]\n",
    "            center_of_mass[i][1] = np.sum(data[:,1][mins==i]) / how_many[i]\n",
    "        \n",
    "        return center_of_mass\n",
    "    \n",
    "    while(iteration < maxiter ):\n",
    "        iteration +=1\n",
    "        dists = calculate_dist()\n",
    "        mins=calculate_clusters()\n",
    "        old_cl = p_of_cl\n",
    "        p_of_cl = new_centroids()\n",
    "        if(np.array_equal(old_cl,p_of_cl)):\n",
    "            break\n",
    "    \n",
    "    plt.plot(data[:,0][mins==0],data[:,1][mins==0],'r.')\n",
    "    plt.plot(data[:,0][mins==1],data[:,1][mins==1],'g.')\n",
    "    plt.plot(data[:,0][mins==2],data[:,1][mins==2],'b.')\n",
    "    plt.plot(p_of_cl[:,0],p_of_cl[:,1],'yo')\n",
    "    plt.xlim(3,9)\n",
    "    plt.ylim(1,5)\n",
    "    plt.yticks(np.arange(1,6,1))\n",
    "    plt.title(iteration)\n",
    "    plt.ylabel('sepal width (cm)')\n",
    "    plt.xlabel('sepal length (cm)')\n",
    "    \n",
    "  \n",
    "    return 0  \n",
    "\n",
    "czas = time.time()\n",
    "KMeans(datka,3,100)\n",
    "print(time.time()-czas)\n",
    "\n",
    " \n",
    "    "
   ]
  },
  {
   "cell_type": "code",
   "execution_count": 9,
   "metadata": {},
   "outputs": [],
   "source": [
    "maxims=np.ones(150)\n",
    "\n"
   ]
  },
  {
   "cell_type": "code",
   "execution_count": null,
   "metadata": {},
   "outputs": [],
   "source": []
  },
  {
   "cell_type": "code",
   "execution_count": null,
   "metadata": {},
   "outputs": [],
   "source": []
  }
 ],
 "metadata": {
  "kernelspec": {
   "display_name": "Python 3",
   "language": "python",
   "name": "python3"
  },
  "language_info": {
   "codemirror_mode": {
    "name": "ipython",
    "version": 3
   },
   "file_extension": ".py",
   "mimetype": "text/x-python",
   "name": "python",
   "nbconvert_exporter": "python",
   "pygments_lexer": "ipython3",
   "version": "3.7.4"
  }
 },
 "nbformat": 4,
 "nbformat_minor": 2
}
